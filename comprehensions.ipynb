{
 "cells": [
  {
   "cell_type": "code",
   "execution_count": null,
   "id": "5a44c9b9",
   "metadata": {},
   "outputs": [],
   "source": [
    "#syntax of dict comprehension\n",
    "dict={key expression:value expression for i in iterable}"
   ]
  },
  {
   "cell_type": "code",
   "execution_count": 48,
   "id": "c7a3c9bd",
   "metadata": {},
   "outputs": [
    {
     "name": "stdout",
     "output_type": "stream",
     "text": [
      "{25: 5, 100: 10, 225: 15, 400: 20, 625: 25, 900: 30, 1225: 35, 1600: 40, 2025: 45}\n"
     ]
    }
   ],
   "source": [
    "#square of numbers in range 50 if number divible by 5\n",
    "d1={i**2:i for i in range(1,50)if i%5==0 }\n",
    "print(d1)"
   ]
  },
  {
   "cell_type": "code",
   "execution_count": 55,
   "id": "bb8a4778",
   "metadata": {},
   "outputs": [
    {
     "name": "stdout",
     "output_type": "stream",
     "text": [
      "{'D': 1, 'h': 1, 'o': 3, 'n': 4, 'i': 3, ' ': 5, 's': 2, 'g': 1, 'd': 2, 'b': 1, 'a': 5, 't': 2, 'm': 1, 'c': 1, 'p': 1}\n"
     ]
    }
   ],
   "source": [
    "s='Dhoni is good batsman and captain'\n",
    "d={i:s.count(i) for i in s}\n",
    "print(d)"
   ]
  },
  {
   "cell_type": "code",
   "execution_count": 52,
   "id": "a871ec0d",
   "metadata": {},
   "outputs": [
    {
     "name": "stdout",
     "output_type": "stream",
     "text": [
      "{'Dhoni': 5, 'is': 2, 'good': 4, 'batsman': 7, 'and': 3, 'captain': 7}\n"
     ]
    }
   ],
   "source": [
    "\n",
    "s='Dhoni is good batsman and captain'\n",
    "d={i:len(i) for i in s.split(' ')}\n",
    "print(d)"
   ]
  },
  {
   "cell_type": "code",
   "execution_count": 1,
   "id": "a18aa746",
   "metadata": {},
   "outputs": [
    {
     "name": "stdout",
     "output_type": "stream",
     "text": [
      "{'abhi': 30, 'abhijit': 48}\n"
     ]
    }
   ],
   "source": [
    "#dict comprehension with if condition\n",
    "original_dict={'amol':29,'abhi':30,'abhishek':35,'abhijit':48}\n",
    "new_dict={k:v for(k,v)in original_dict.items() if v%2==0}\n",
    "print(new_dict)"
   ]
  },
  {
   "cell_type": "code",
   "execution_count": 2,
   "id": "3eb860b9",
   "metadata": {},
   "outputs": [
    {
     "name": "stdout",
     "output_type": "stream",
     "text": [
      "{'abhishek': 35}\n"
     ]
    }
   ],
   "source": [
    "#dict comprehension with multiple if \n",
    "dict1={k:v for (k,v) in original_dict.items() if v%2!=0 if v>30}\n",
    "print(dict1)"
   ]
  },
  {
   "cell_type": "code",
   "execution_count": null,
   "id": "b4156bbf",
   "metadata": {},
   "outputs": [],
   "source": [
    "list comprehension"
   ]
  },
  {
   "cell_type": "code",
   "execution_count": null,
   "id": "72e0bae6",
   "metadata": {},
   "outputs": [],
   "source": [
    "#syntax\n",
    "new_list=[output/expression for item in iterable if condition==True]"
   ]
  },
  {
   "cell_type": "code",
   "execution_count": 10,
   "id": "f30a513d",
   "metadata": {},
   "outputs": [
    {
     "name": "stdout",
     "output_type": "stream",
     "text": [
      "[1, 2, 3, 4, 5]\n"
     ]
    }
   ],
   "source": [
    "l=[1,2,3,4,5]\n",
    "l1=[i for i in l]\n",
    "print(l1)"
   ]
  },
  {
   "cell_type": "code",
   "execution_count": 17,
   "id": "158d9a4d",
   "metadata": {},
   "outputs": [
    {
     "name": "stdout",
     "output_type": "stream",
     "text": [
      "['abhijit']\n",
      "['abhijit']\n",
      "['AmolAmolAmol']\n"
     ]
    }
   ],
   "source": [
    "#w/o list comprehension\n",
    "l1=['Amol','abhijit','sachin','yuvraj']\n",
    "l2=[]\n",
    "#to find the names that starts with 'a'\n",
    "for i in l1:\n",
    "    if i.startswith('a'):\n",
    "        l2.append(i)\n",
    "print(l2)\n",
    "\n",
    "#by using list comprehension\n",
    "\n",
    "l3=[i for i in l1 if i.startswith('a')]\n",
    "print(l3)\n",
    "l4=[i*3 for i in l1 if i.lower()=='amol']\n",
    "print(l4)"
   ]
  },
  {
   "cell_type": "code",
   "execution_count": 12,
   "id": "535ac85e",
   "metadata": {},
   "outputs": [
    {
     "name": "stdout",
     "output_type": "stream",
     "text": [
      "[18, 9, 7, 14, 8, 36]\n"
     ]
    }
   ],
   "source": [
    "#create new list which add 6 to each element in list\n",
    "l=[12,3,1,8,2,30]\n",
    "l1=[i+6 for i in l]\n",
    "print(l1)"
   ]
  },
  {
   "cell_type": "code",
   "execution_count": 18,
   "id": "af7b54db",
   "metadata": {},
   "outputs": [
    {
     "name": "stdout",
     "output_type": "stream",
     "text": [
      "[1, 4, 9, 16, 25, 36, 49, 64, 81, 100]\n"
     ]
    }
   ],
   "source": [
    "l=[i**2 for i in range(1,11)]\n",
    "print(l)"
   ]
  },
  {
   "cell_type": "code",
   "execution_count": 13,
   "id": "4b0b0cd7",
   "metadata": {},
   "outputs": [
    {
     "name": "stdout",
     "output_type": "stream",
     "text": [
      "['%Dhoni%', '%is%', '%great%', '%captain%']\n"
     ]
    }
   ],
   "source": [
    "#to add % at start and end of each word\n",
    "s='Dhoni is great captain'\n",
    "l=['%'+i+'%' for i in s.split(' ')]\n",
    "print(l)"
   ]
  },
  {
   "cell_type": "code",
   "execution_count": 5,
   "id": "d3a63fe6",
   "metadata": {},
   "outputs": [
    {
     "name": "stdout",
     "output_type": "stream",
     "text": [
      "[0, 1, 2, 3, 4, 5, 6, 7, 8, 9]\n"
     ]
    }
   ],
   "source": [
    "#we can use range() function to create iterable\n",
    "\n",
    "l=[x for x in range(10)]\n",
    "print(l)"
   ]
  },
  {
   "cell_type": "code",
   "execution_count": 19,
   "id": "56dfeb8d",
   "metadata": {},
   "outputs": [
    {
     "name": "stdout",
     "output_type": "stream",
     "text": [
      "[0, 2, 4, 6, 8]\n"
     ]
    }
   ],
   "source": [
    "#we can use range() function to create iterable with condition\n",
    "\n",
    "l=[x for x in range(10) if x % 2 == 0]\n",
    "print(l)"
   ]
  },
  {
   "cell_type": "code",
   "execution_count": 21,
   "id": "939c8bff",
   "metadata": {},
   "outputs": [
    {
     "name": "stdout",
     "output_type": "stream",
     "text": [
      "['dhoni', 'abhijit', 'sachin', 'yuvraj']\n"
     ]
    }
   ],
   "source": [
    "l1=['amol','abhijit','sachin','yuvraj']\n",
    "l2=[]\n",
    "l3=['dhoni' if i=='amol'else i for i in l1]\n",
    "print(l3)\n"
   ]
  },
  {
   "cell_type": "code",
   "execution_count": null,
   "id": "6505c70f",
   "metadata": {},
   "outputs": [],
   "source": []
  },
  {
   "cell_type": "code",
   "execution_count": 25,
   "id": "7ddfea5c",
   "metadata": {},
   "outputs": [
    {
     "name": "stdout",
     "output_type": "stream",
     "text": [
      "['d', 'h', 'n', 's', 'b', 's', 't', 'c', 'p', 't', 'n', 'v', 'r', 'n', 't', 'h', 'n', 'd', 'n', 't', 'm']\n",
      "21\n"
     ]
    }
   ],
   "source": [
    "s='Dhoni is best Cptain ever in the indian team'\n",
    "l1=[i for i in s.lower() if i not in('a','e','i','o','u',' ',',')]\n",
    "print(l1)\n",
    "print(len(l1))"
   ]
  },
  {
   "cell_type": "code",
   "execution_count": 26,
   "id": "876bbf2e",
   "metadata": {},
   "outputs": [
    {
     "name": "stdout",
     "output_type": "stream",
     "text": [
      "[1, 9, 16]\n"
     ]
    }
   ],
   "source": [
    "#to find common elements between two lists\n",
    "l1=[1,2,3,4]\n",
    "l2=[1,3,4,5]\n",
    "l3=[i**2 for i in l1 if i in l2]\n",
    "print(l3)"
   ]
  },
  {
   "cell_type": "code",
   "execution_count": 32,
   "id": "5a578869",
   "metadata": {},
   "outputs": [
    {
     "name": "stdout",
     "output_type": "stream",
     "text": [
      "['shreya', 'swarA', 'abhijit', 'aa']\n"
     ]
    }
   ],
   "source": [
    "l=['amol','shreya','swarA','abhijit','aa']\n",
    "l1=[i for i in l if i.lower().endswith('a') or len(i)>4]\n",
    "print(l1)"
   ]
  },
  {
   "cell_type": "code",
   "execution_count": 43,
   "id": "a8d728b3",
   "metadata": {},
   "outputs": [
    {
     "name": "stdout",
     "output_type": "stream",
     "text": [
      "[10, 2, 5, 1, 2, 20, 5, 2, 8, 1, 2, 20]\n",
      "[10, 2, -8, 2, 20, -10, 2, 8, 2, 20, 0, 0, 0]\n",
      "6\n",
      "3\n"
     ]
    }
   ],
   "source": [
    "l=[10,-5,2,5,-8,1,2,-15,20,-10,5,2,-5,8,1,2,-15,20,0,0,0]\n",
    "l1=[i for i in l if i>0]\n",
    "l2=[i for i in l if i%2==0]\n",
    "l3=len([i for i in l if i<0])\n",
    "l4=len([i for i in l if i==0])\n",
    "\n",
    "\n",
    "print(l1)\n",
    "print(l2)\n",
    "print(l3)\n",
    "print(l4)"
   ]
  },
  {
   "cell_type": "code",
   "execution_count": null,
   "id": "f2324240",
   "metadata": {},
   "outputs": [],
   "source": []
  }
 ],
 "metadata": {
  "kernelspec": {
   "display_name": "Python 3",
   "language": "python",
   "name": "python3"
  },
  "language_info": {
   "codemirror_mode": {
    "name": "ipython",
    "version": 3
   },
   "file_extension": ".py",
   "mimetype": "text/x-python",
   "name": "python",
   "nbconvert_exporter": "python",
   "pygments_lexer": "ipython3",
   "version": "3.8.8"
  }
 },
 "nbformat": 4,
 "nbformat_minor": 5
}
